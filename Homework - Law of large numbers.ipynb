{
 "cells": [
  {
   "cell_type": "code",
   "execution_count": 1,
   "id": "df4ab2ae",
   "metadata": {},
   "outputs": [],
   "source": [
    "import numpy as np\n"
   ]
  },
  {
   "cell_type": "code",
   "execution_count": 59,
   "id": "c24d1e7c",
   "metadata": {},
   "outputs": [
    {
     "data": {
      "text/plain": [
       "-0.9154656141477214"
      ]
     },
     "execution_count": 59,
     "metadata": {},
     "output_type": "execute_result"
    }
   ],
   "source": [
    "np.random.randn()"
   ]
  },
  {
   "cell_type": "code",
   "execution_count": 43,
   "id": "30c76040",
   "metadata": {},
   "outputs": [],
   "source": [
    "sigma_1 = 34.1 * 2"
   ]
  },
  {
   "cell_type": "code",
   "execution_count": 44,
   "id": "bfa369de",
   "metadata": {},
   "outputs": [],
   "source": [
    "sigma_2 = 13.6 * 2"
   ]
  },
  {
   "cell_type": "code",
   "execution_count": 45,
   "id": "646e8c7a",
   "metadata": {},
   "outputs": [],
   "source": [
    "sigma_3 = 2.1 *2"
   ]
  },
  {
   "cell_type": "code",
   "execution_count": 46,
   "id": "62027ddc",
   "metadata": {},
   "outputs": [
    {
     "data": {
      "text/plain": [
       "99.60000000000001"
      ]
     },
     "execution_count": 46,
     "metadata": {},
     "output_type": "execute_result"
    }
   ],
   "source": [
    "sigma_1+ sigma_2+ sigma_3"
   ]
  },
  {
   "cell_type": "code",
   "execution_count": 218,
   "id": "3d1c9c97",
   "metadata": {},
   "outputs": [
    {
     "name": "stdout",
     "output_type": "stream",
     "text": [
      "Number of random numbers between -1 and 1 =  67\n",
      "Percent %  0.67\n"
     ]
    }
   ],
   "source": [
    "n = 100\n",
    "\n",
    "counter = 0\n",
    "\n",
    "for i in range(n):\n",
    "    random_num = np.random.randn()\n",
    "    if random_num <= 1 and random_num >= -1:\n",
    "        counter += 1\n",
    "\n",
    "answer = counter / n\n",
    "print('Number of random numbers between -1 and 1 = ', counter)\n",
    "print('Percent % ', answer)\n",
    "    "
   ]
  },
  {
   "cell_type": "code",
   "execution_count": null,
   "id": "38f7f122",
   "metadata": {},
   "outputs": [],
   "source": []
  },
  {
   "cell_type": "code",
   "execution_count": null,
   "id": "e70820c9",
   "metadata": {},
   "outputs": [],
   "source": []
  }
 ],
 "metadata": {
  "kernelspec": {
   "display_name": "Python 3 (ipykernel)",
   "language": "python",
   "name": "python3"
  },
  "language_info": {
   "codemirror_mode": {
    "name": "ipython",
    "version": 3
   },
   "file_extension": ".py",
   "mimetype": "text/x-python",
   "name": "python",
   "nbconvert_exporter": "python",
   "pygments_lexer": "ipython3",
   "version": "3.9.12"
  }
 },
 "nbformat": 4,
 "nbformat_minor": 5
}
